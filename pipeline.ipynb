{
 "cells": [
  {
   "cell_type": "code",
   "execution_count": 1,
   "metadata": {
    "collapsed": true
   },
   "outputs": [],
   "source": [
    "import os\n",
    "from collections import namedtuple\n",
    "from ipynb.fs.full.subtitle_tagger import Script, Subtitle, Subtitles, SubtitleTagger\n",
    "from ipynb.fs.full.utils import Timer, tag_faces_in_video, Video\n",
    "# from ipynb.fs.full.face_classifier import FaceDataPoint, FaceDataStore, FaceDataCollector, FaceClassifier, FaceIdentifier\n",
    "SourcePaths = namedtuple('SourcePaths', ['id', 'video', 'script', 'subtitles', 'output'])\n",
    "\n",
    "def get_source_paths(episode_id, base_path='sources', video_ext='.mkv', script_ext='.script', subtitles_ext='.en.srt'):\n",
    "    video_path = os.path.join(base_path, episode_id + video_ext)\n",
    "    script_path = os.path.join(base_path, episode_id + script_ext)\n",
    "    subtitles_path = os.path.join(base_path, episode_id + subtitles_ext)\n",
    "    output_path = os.path.join('output', episode_id + '_labeled' + video_ext)\n",
    "    return SourcePaths(episode_id, video_path, script_path, subtitles_path, output_path)\n",
    "\n",
    "class Episode:    \n",
    "    def __init__(self, source_paths):\n",
    "        self.episode_id = source_paths.id\n",
    "        self.source_paths = source_paths\n",
    "        self.script = None\n",
    "        self.subtitles = None\n",
    "        self.video = None\n",
    "    \n",
    "    def load_script(self, **kwargs):\n",
    "        script_path = self.source_paths.script\n",
    "        script = Script(**kwargs)\n",
    "        script.read_script(script_path)\n",
    "        self.script = script\n",
    "    \n",
    "    def load_subtitles(self, **kwargs):\n",
    "        subtitles_path = self.source_paths.subtitles\n",
    "        subtitles = Subtitles(**kwargs)\n",
    "        subs = subtitles.read_subtitles(subtitles_path)\n",
    "        self.subtitles = subs\n",
    "    \n",
    "    def load_video(self, **kwargs):\n",
    "        video_path = self.source_paths.video\n",
    "        self.video = Video(video_path)\n",
    "    \n",
    "    def convert_subtitle_times_to_frames(self):\n",
    "        framerate = self.video.frame_rate\n",
    "        ms_to_frame = lambda ms: int(ms/1000.0 * framerate)\n",
    "        for s in self.subtitles:\n",
    "            s.start_frame = ms_to_frame(s.start_time)\n",
    "            s.end_frame = ms_to_frame(s.end_time)\n",
    "    "
   ]
  },
  {
   "cell_type": "code",
   "execution_count": 2,
   "metadata": {
    "collapsed": true
   },
   "outputs": [],
   "source": [
    "# Load epsiode data\n",
    "EPISODE_ID = 'The.Big.Bang.Theory.S01E01'\n",
    "source_paths = get_source_paths(EPISODE_ID)\n",
    "e = Episode(source_paths)\n",
    "e.load_script()\n",
    "e.load_subtitles()\n",
    "# e.load_video()\n",
    "\n",
    "# e.convert_subtitle_times_to_frames()\n"
   ]
  },
  {
   "cell_type": "code",
   "execution_count": null,
   "metadata": {
    "collapsed": true
   },
   "outputs": [],
   "source": [
    "# dir(e.video)\n",
    "e.convert_subtitle_times_to_frames()"
   ]
  },
  {
   "cell_type": "code",
   "execution_count": 3,
   "metadata": {
    "collapsed": true
   },
   "outputs": [],
   "source": [
    "\n",
    "# Tag subtitles\n",
    "st = SubtitleTagger()\n",
    "st.tag(e.script, e.subtitles)\n"
   ]
  },
  {
   "cell_type": "code",
   "execution_count": null,
   "metadata": {
    "collapsed": true
   },
   "outputs": [],
   "source": [
    "\n",
    "# Get data in frames with tagged subtitles\n",
    "fds = FaceDataStore()\n",
    "fdc = FaceDataCollector()\n",
    "labeled_frames_indices = []\n",
    "labeled_frame_ranges = []\n",
    "for s in e.subtitles:\n",
    "    if s.character is None:\n",
    "        continue\n",
    "    \n",
    "    labeled_frames_indices.extend(range(s.start_frame, s.end_frame))\n",
    "    labeled_frame_ranges.append((s.character, s.start_frame, s.end_frame))\n",
    "fdc.collect_data_in_frames(labeled_frames_indices, e.video.frames, fds)\n",
    "\n"
   ]
  },
  {
   "cell_type": "code",
   "execution_count": null,
   "metadata": {
    "collapsed": true
   },
   "outputs": [],
   "source": [
    "# Train on data from frames\n",
    "fc = FaceClassifier()\n",
    "fc.train(datatore, labeled_frame_ranges)\n",
    "\n"
   ]
  },
  {
   "cell_type": "code",
   "execution_count": null,
   "metadata": {
    "collapsed": true
   },
   "outputs": [],
   "source": [
    "# Predict faces in labeled frames\n",
    "fc.predict(datastore, labeled_frames_indices)\n",
    "\n",
    "fid = FaceIdentifier()\n",
    "fid.identify(datastore)\n",
    "\n"
   ]
  },
  {
   "cell_type": "code",
   "execution_count": null,
   "metadata": {
    "collapsed": true
   },
   "outputs": [],
   "source": [
    "tag_faces_in_video(source_paths.video, source_paths.output, datastore)"
   ]
  },
  {
   "cell_type": "code",
   "execution_count": 4,
   "metadata": {},
   "outputs": [
    {
     "name": "stderr",
     "output_type": "stream",
     "text": [
      "/home/philip/anaconda3/lib/python3.6/site-packages/matplotlib/figure.py:1743: UserWarning: This figure includes Axes that are not compatible with tight_layout, so its results might be incorrect.\n",
      "  warnings.warn(\"This figure includes Axes that are not \"\n"
     ]
    },
    {
     "data": {
      "image/png": "[encoded data removed]",
      "text/plain": [
       "<matplotlib.figure.Figure at 0x7fc35de26f98>"
      ]
     },
     "metadata": {},
     "output_type": "display_data"
    }
   ],
   "source": [
    "%matplotlib inline\n",
    "%reload_ext autoreload\n",
    "import matplotlib.pyplot as plt\n",
    "plt.rcParams['figure.figsize'] = (10, 5)\n",
    "plt.rcParams['figure.autolayout'] = True\n",
    "import numpy as np\n",
    "from math import ceil\n",
    "\n",
    "def visualize_tagged_subs_time(subtitles):\n",
    "    ms_to_frame = lambda ms: int(ms/1000)\n",
    "    \n",
    "    end_time = ceil(ms_to_frame(subtitles[-1].end_time))\n",
    "    tagged_state = np.zeros(end_time)\n",
    "    untagged_state = np.zeros(end_time)\n",
    "    fix, ax = plt.subplots()\n",
    "    for s in subtitles:\n",
    "        start_index = ms_to_frame(s.start_time)\n",
    "        end_index = ms_to_frame(s.end_time)\n",
    "        if s.character is None:\n",
    "            untagged_state[start_index:end_index] = 1\n",
    "        else:\n",
    "            tagged_state[start_index:end_index] = 1\n",
    "    \n",
    "    ax.bar(range(len(tagged_state)), tagged_state, width=1.0, label='Tagged Subtitle Chunk')\n",
    "    ax.bar(range(len(tagged_state)), untagged_state, width=1.0, color='orange', label='Untagged Subtitle Chunk')\n",
    "    ax.set_yticklabels([])\n",
    "    plt.xlabel('Episode Time (seconds)')\n",
    "    ax.legend(loc='upper center', bbox_to_anchor=(0.5, -0.1), fancybox=True, shadow=False, ncol=2)\n",
    "    plt.show()\n",
    "\n",
    "def visualize_tagged_subs(subtitles):\n",
    "    tagged = 0\n",
    "    untagged = 0\n",
    "    for s in subtitles:\n",
    "        if s.character is None:\n",
    "            untagged += 1\n",
    "        else:\n",
    "            tagged += 1\n",
    "    \n",
    "    labels = [\"Untagged\", \"Tagged\"]\n",
    "    values = np.asarray([untagged, tagged])\n",
    "    fig, ax = plt.subplots()\n",
    "    ax.pie(values, labels=labels, autopct='%1.1f%%')\n",
    "    ax.axis('equal')\n",
    "    plt.show()\n",
    "# visualize_tagged_subs_time(e.subtitles)\n",
    "\n",
    "def visualize_tagged_proportion(subtitles):\n",
    "    total_time = subtitles[-1].end_time\n",
    "    tagged_time = 0\n",
    "    untagged_time = 0\n",
    "    for s in subtitles:\n",
    "        duration = s.duration\n",
    "        total_time -= duration\n",
    "        if s.character is None:\n",
    "            untagged_time += duration\n",
    "        else:\n",
    "            tagged_time += duration\n",
    "    \n",
    "    labels = [\"Untagged Subtitle\", \"Tagged Subtitle\", \"No Subtitle\"]\n",
    "    values = np.asarray([untagged_time, tagged_time, total_time])\n",
    "    fig, ax = plt.subplots()\n",
    "    width = 10\n",
    "    b_u = ax.bar(0, untagged_time/60.0, width, label='Untagged Subtitle', color='dodgerblue')\n",
    "    b_t = ax.bar(10, tagged_time/60.0, width, label='Tagged Subtitle', color='darkorange')\n",
    "    b_n = ax.bar(20, total_time/60.0, width, label='No Subtitle', color='green')\n",
    "    ax.set_ylabel('Minutes')\n",
    "    ax.set_xticks([])\n",
    "    ax.legend()\n",
    "#     ax.bar(values, labels=labels, autopct='%1.1f%%')\n",
    "#     ax.axis('equal')\n",
    "    plt.show()\n",
    "    \n",
    "# visualize_tagged_proportion(e.subtitles)\n",
    "# visualize_tagged_subs(e.subtitles)\n",
    "visualize_tagged_subs_time(e.subtitles)\n",
    "# print(len(e.subtitles))"
   ]
  },
  {
   "cell_type": "code",
   "execution_count": null,
   "metadata": {
    "collapsed": true
   },
   "outputs": [],
   "source": [
    "sub_duration = sum([s.duration for s in e.subtitles if s.character is not None])/1000/60\n",
    "episode_duration = 21+42/60\n",
    "\n",
    "print(sub_duration)\n",
    "print(sub_duration/episode_duration)\n"
   ]
  },
  {
   "cell_type": "code",
   "execution_count": 5,
   "metadata": {},
   "outputs": [
    {
     "name": "stderr",
     "output_type": "stream",
     "text": [
      "/home/philip/anaconda3/lib/python3.6/site-packages/matplotlib/figure.py:1743: UserWarning: This figure includes Axes that are not compatible with tight_layout, so its results might be incorrect.\n",
      "  warnings.warn(\"This figure includes Axes that are not \"\n"
     ]
    },
    {
     "data": {
      "image/png": "[encoded data removed]",
      "text/plain": [
       "<matplotlib.figure.Figure at 0x7fc35f6c7a90>"
      ]
     },
     "metadata": {},
     "output_type": "display_data"
    }
   ],
   "source": [
    "from collections import Counter\n",
    "import matplotlib.pyplot as plt\n",
    "total_count = Counter()\n",
    "tag_count = Counter()\n",
    "\n",
    "\n",
    "for s in e.subtitles:\n",
    "    num_tokens = len(s.tokens)\n",
    "    total_count[num_tokens] += 1\n",
    "    if s.character is not None:\n",
    "        tag_count[num_tokens] += 1\n",
    "    else:\n",
    "        tag_count[num_tokens] += 0\n",
    "\n",
    "num_tokens = []\n",
    "ratios = []\n",
    "for nt, total in total_count.items():\n",
    "    num_tokens.append(nt)\n",
    "    ratios.append(tag_count[nt]/total)\n",
    "\n",
    "\n",
    "num_tokens_sorted, ratios_sorted = zip(*sorted(zip(num_tokens,ratios), key=lambda pair: pair[0]))\n",
    "fig, ax = plt.subplots()\n",
    "ax.bar(num_tokens_sorted[1:], ratios_sorted[1:])\n",
    "plt.xticks(num_tokens_sorted[1:])\n",
    "plt.xlabel('Number of Tokens')\n",
    "plt.ylabel('Tag Rate')\n",
    "plt.show()\n"
   ]
  },
  {
   "cell_type": "code",
   "execution_count": 22,
   "metadata": {},
   "outputs": [
    {
     "data": {
      "text/plain": [
       "[0.9253731343283582,\n",
       " 0.8840579710144928,\n",
       " 0.9230769230769231,\n",
       " 0.8888888888888888,\n",
       " 0.9230769230769231,\n",
       " 1.0,\n",
       " 0.48484848484848486,\n",
       " 0.958904109589041,\n",
       " 1.0,\n",
       " 0.0]"
      ]
     },
     "execution_count": 22,
     "metadata": {},
     "output_type": "execute_result"
    }
   ],
   "source": []
  },
  {
   "cell_type": "code",
   "execution_count": null,
   "metadata": {
    "collapsed": true
   },
   "outputs": [],
   "source": []
  }
 ],
 "metadata": {
  "kernelspec": {
   "display_name": "Python 3",
   "language": "python",
   "name": "python3"
  },
  "language_info": {
   "codemirror_mode": {
    "name": "ipython",
    "version": 3
   },
   "file_extension": ".py",
   "mimetype": "text/x-python",
   "name": "python",
   "nbconvert_exporter": "python",
   "pygments_lexer": "ipython3",
   "version": "3.6.2"
  }
 },
 "nbformat": 4,
 "nbformat_minor": 2
}
